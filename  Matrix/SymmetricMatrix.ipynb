{
 "cells": [
  {
   "cell_type": "markdown",
   "source": [
    "Symmetric Matrix -> n(rows) = n(columns)\n",
    "A = A(transpose)"
   ],
   "metadata": {
    "collapsed": false
   },
   "id": "f272341fb668ac9b"
  },
  {
   "cell_type": "markdown",
   "source": [
    "Identity Matrix -> A symmetric matrix where all diagonal elements are 1 and all other elements are 0."
   ],
   "metadata": {
    "collapsed": false
   },
   "id": "9dfa5f93564da08"
  },
  {
   "cell_type": "code",
   "outputs": [
    {
     "data": {
      "text/plain": "array([[1, 2, 3],\n       [2, 5, 8],\n       [3, 8, 0]])"
     },
     "execution_count": 3,
     "metadata": {},
     "output_type": "execute_result"
    }
   ],
   "source": [
    "import numpy as np\n",
    "import torch\n",
    "X = np.array([[1, 2, 3], [2, 5, 8], [3, 8, 0]])\n",
    "X"
   ],
   "metadata": {
    "collapsed": false,
    "ExecuteTime": {
     "end_time": "2024-02-26T04:03:36.488065900Z",
     "start_time": "2024-02-26T04:03:34.758046300Z"
    }
   },
   "id": "2456046cd0e7cd2f",
   "execution_count": 3
  },
  {
   "cell_type": "code",
   "outputs": [
    {
     "data": {
      "text/plain": "array([[ True,  True,  True],\n       [ True,  True,  True],\n       [ True,  True,  True]])"
     },
     "execution_count": 4,
     "metadata": {},
     "output_type": "execute_result"
    }
   ],
   "source": [
    "X.T == X"
   ],
   "metadata": {
    "collapsed": false,
    "ExecuteTime": {
     "end_time": "2024-02-26T04:03:36.490162400Z",
     "start_time": "2024-02-26T04:03:36.487032Z"
    }
   },
   "id": "84560f5295a90f75",
   "execution_count": 4
  },
  {
   "cell_type": "code",
   "outputs": [
    {
     "data": {
      "text/plain": "tensor([[1, 0, 0],\n        [0, 1, 0],\n        [0, 0, 1]])"
     },
     "execution_count": 5,
     "metadata": {},
     "output_type": "execute_result"
    }
   ],
   "source": [
    "I_pt = torch.tensor([[1, 0, 0], [0, 1, 0], [0, 0, 1]])\n",
    "I_pt"
   ],
   "metadata": {
    "collapsed": false,
    "ExecuteTime": {
     "end_time": "2024-02-26T04:03:56.799544300Z",
     "start_time": "2024-02-26T04:03:56.778230600Z"
    }
   },
   "id": "b08847e52ba78ae9",
   "execution_count": 5
  },
  {
   "cell_type": "code",
   "outputs": [
    {
     "data": {
      "text/plain": "tensor([10, 43, 44])"
     },
     "execution_count": 6,
     "metadata": {},
     "output_type": "execute_result"
    }
   ],
   "source": [
    "x_pt = torch.tensor([10, 43, 44])\n",
    "x_pt"
   ],
   "metadata": {
    "collapsed": false,
    "ExecuteTime": {
     "end_time": "2024-02-26T04:04:12.119921900Z",
     "start_time": "2024-02-26T04:04:12.107350200Z"
    }
   },
   "id": "9e3dfeb88476090f",
   "execution_count": 6
  },
  {
   "cell_type": "code",
   "outputs": [
    {
     "data": {
      "text/plain": "tensor([10, 43, 44])"
     },
     "execution_count": 7,
     "metadata": {},
     "output_type": "execute_result"
    }
   ],
   "source": [
    "torch.matmul(I_pt, x_pt)"
   ],
   "metadata": {
    "collapsed": false,
    "ExecuteTime": {
     "end_time": "2024-02-26T04:04:23.607136300Z",
     "start_time": "2024-02-26T04:04:23.570653500Z"
    }
   },
   "id": "449d7de49d3e305f",
   "execution_count": 7
  },
  {
   "cell_type": "code",
   "outputs": [],
   "source": [],
   "metadata": {
    "collapsed": false
   },
   "id": "1471f8f3ba345c9c"
  }
 ],
 "metadata": {
  "kernelspec": {
   "display_name": "Python 3",
   "language": "python",
   "name": "python3"
  },
  "language_info": {
   "codemirror_mode": {
    "name": "ipython",
    "version": 2
   },
   "file_extension": ".py",
   "mimetype": "text/x-python",
   "name": "python",
   "nbconvert_exporter": "python",
   "pygments_lexer": "ipython2",
   "version": "2.7.6"
  }
 },
 "nbformat": 4,
 "nbformat_minor": 5
}
