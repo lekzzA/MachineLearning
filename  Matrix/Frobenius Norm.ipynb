{
 "cells": [
  {
   "cell_type": "markdown",
   "source": [
    "Square root of sum of squares of all elements in matrix.\n",
    "This is analogous to L2 norm.\n",
    "Size of matrix in terms of Euclidean distance."
   ],
   "metadata": {
    "collapsed": false
   },
   "id": "7966b4fbd6cf3aa7"
  },
  {
   "cell_type": "code",
   "outputs": [],
   "source": [
    "import numpy as np\n",
    "import torch\n",
    "import tensorflow as tf"
   ],
   "metadata": {
    "collapsed": true,
    "ExecuteTime": {
     "end_time": "2024-02-21T05:08:14.555102Z",
     "start_time": "2024-02-21T05:08:13.059252400Z"
    }
   },
   "id": "initial_id",
   "execution_count": 6
  },
  {
   "cell_type": "code",
   "outputs": [
    {
     "data": {
      "text/plain": "array([[1, 2, 3],\n       [4, 5, 6],\n       [7, 8, 0]])"
     },
     "execution_count": 14,
     "metadata": {},
     "output_type": "execute_result"
    }
   ],
   "source": [
    "X = np.array([[1, 2, 3], [4, 5, 6], [7, 8, 0]])\n",
    "# PyTorch and TensorFlow require matrix to be of float type to find norm.\n",
    "X_pt = torch.tensor([[1, 2, 3], [4, 5, 6], [7, 8, 0.]])\n",
    "X"
   ],
   "metadata": {
    "collapsed": false,
    "ExecuteTime": {
     "end_time": "2024-02-21T05:09:52.125555900Z",
     "start_time": "2024-02-21T05:09:52.115942300Z"
    }
   },
   "id": "62635a110d84d215",
   "execution_count": 14
  },
  {
   "cell_type": "code",
   "outputs": [
    {
     "data": {
      "text/plain": "14.2828568570857"
     },
     "execution_count": 15,
     "metadata": {},
     "output_type": "execute_result"
    }
   ],
   "source": [
    "(1**2 + 2**2 + 3**2 + 4**2 + 5**2 + 6**2 + 7**2 + 8**2 + 0**2)**(1/2)"
   ],
   "metadata": {
    "collapsed": false,
    "ExecuteTime": {
     "end_time": "2024-02-21T05:09:52.711906600Z",
     "start_time": "2024-02-21T05:09:52.708667300Z"
    }
   },
   "id": "92a90124c1197023",
   "execution_count": 15
  },
  {
   "cell_type": "code",
   "outputs": [
    {
     "data": {
      "text/plain": "14.2828568570857"
     },
     "execution_count": 16,
     "metadata": {},
     "output_type": "execute_result"
    }
   ],
   "source": [
    "np.linalg.norm(X)"
   ],
   "metadata": {
    "collapsed": false,
    "ExecuteTime": {
     "end_time": "2024-02-21T05:09:53.304959100Z",
     "start_time": "2024-02-21T05:09:53.300733600Z"
    }
   },
   "id": "b40f34ed58a0fbfd",
   "execution_count": 16
  },
  {
   "cell_type": "code",
   "outputs": [
    {
     "data": {
      "text/plain": "tensor(14.2829)"
     },
     "execution_count": 17,
     "metadata": {},
     "output_type": "execute_result"
    }
   ],
   "source": [
    "torch.norm(X_pt)"
   ],
   "metadata": {
    "collapsed": false,
    "ExecuteTime": {
     "end_time": "2024-02-21T05:09:54.447052Z",
     "start_time": "2024-02-21T05:09:54.445269500Z"
    }
   },
   "id": "d746466d6de63617",
   "execution_count": 17
  },
  {
   "cell_type": "code",
   "outputs": [],
   "source": [],
   "metadata": {
    "collapsed": false
   },
   "id": "9cd763226bc22dba"
  }
 ],
 "metadata": {
  "kernelspec": {
   "display_name": "Python 3",
   "language": "python",
   "name": "python3"
  },
  "language_info": {
   "codemirror_mode": {
    "name": "ipython",
    "version": 2
   },
   "file_extension": ".py",
   "mimetype": "text/x-python",
   "name": "python",
   "nbconvert_exporter": "python",
   "pygments_lexer": "ipython2",
   "version": "2.7.6"
  }
 },
 "nbformat": 4,
 "nbformat_minor": 5
}
