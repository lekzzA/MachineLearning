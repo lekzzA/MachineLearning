{
 "cells": [
  {
   "cell_type": "markdown",
   "source": [
    "C(i,k) = sigma(j)[A(i,j) * B(j,k)]\n",
    "\n",
    "Number of columns in final matrix is equal to that of B and rows as that of A"
   ],
   "metadata": {
    "collapsed": false
   },
   "id": "30f271b1e4da7faf"
  },
  {
   "cell_type": "markdown",
   "source": [
    "Matrix * Vector"
   ],
   "metadata": {
    "collapsed": false
   },
   "id": "b9db266a30e5a601"
  },
  {
   "cell_type": "code",
   "outputs": [],
   "source": [
    "import tensorflow as tf\n",
    "import numpy as np\n",
    "import torch"
   ],
   "metadata": {
    "collapsed": true,
    "ExecuteTime": {
     "end_time": "2024-02-21T05:15:59.346842900Z",
     "start_time": "2024-02-21T05:15:58.250473600Z"
    }
   },
   "id": "initial_id",
   "execution_count": 7
  },
  {
   "cell_type": "code",
   "outputs": [
    {
     "data": {
      "text/plain": "array([[3, 4],\n       [5, 6],\n       [7, 8]])"
     },
     "execution_count": 8,
     "metadata": {},
     "output_type": "execute_result"
    }
   ],
   "source": [
    "A = np.array([[3, 4], [5, 6], [7, 8]])\n",
    "A"
   ],
   "metadata": {
    "collapsed": false,
    "ExecuteTime": {
     "end_time": "2024-02-21T05:15:59.348176700Z",
     "start_time": "2024-02-21T05:15:59.338805900Z"
    }
   },
   "id": "bca6f6a7dd63f1f4",
   "execution_count": 8
  },
  {
   "cell_type": "code",
   "outputs": [
    {
     "data": {
      "text/plain": "array([1, 2])"
     },
     "execution_count": 9,
     "metadata": {},
     "output_type": "execute_result"
    }
   ],
   "source": [
    "b = np.array([1, 2])\n",
    "b"
   ],
   "metadata": {
    "collapsed": false,
    "ExecuteTime": {
     "end_time": "2024-02-21T05:15:59.354174800Z",
     "start_time": "2024-02-21T05:15:59.342473700Z"
    }
   },
   "id": "b7119ebf166f9b2a",
   "execution_count": 9
  },
  {
   "cell_type": "code",
   "outputs": [
    {
     "data": {
      "text/plain": "array([11, 17, 23])"
     },
     "execution_count": 10,
     "metadata": {},
     "output_type": "execute_result"
    }
   ],
   "source": [
    "np.dot(A, b)"
   ],
   "metadata": {
    "collapsed": false,
    "ExecuteTime": {
     "end_time": "2024-02-21T05:15:59.606042300Z",
     "start_time": "2024-02-21T05:15:59.593403700Z"
    }
   },
   "id": "ccce74ac78835818",
   "execution_count": 10
  },
  {
   "cell_type": "code",
   "outputs": [
    {
     "data": {
      "text/plain": "tensor([[3, 4],\n        [5, 6],\n        [7, 8]], dtype=torch.int32)"
     },
     "execution_count": 12,
     "metadata": {},
     "output_type": "execute_result"
    }
   ],
   "source": [
    "A_pt = torch.from_numpy(A)\n",
    "b_pt = torch.from_numpy(b)\n",
    "A_pt"
   ],
   "metadata": {
    "collapsed": false,
    "ExecuteTime": {
     "end_time": "2024-02-21T05:16:30.414269600Z",
     "start_time": "2024-02-21T05:16:30.407904200Z"
    }
   },
   "id": "b2809b3966ffe94a",
   "execution_count": 12
  },
  {
   "cell_type": "code",
   "outputs": [
    {
     "data": {
      "text/plain": "tensor([11, 17, 23], dtype=torch.int32)"
     },
     "execution_count": 16,
     "metadata": {},
     "output_type": "execute_result"
    }
   ],
   "source": [
    "torch.matmul(A_pt, b_pt)"
   ],
   "metadata": {
    "collapsed": false,
    "ExecuteTime": {
     "end_time": "2024-02-21T05:17:24.069688700Z",
     "start_time": "2024-02-21T05:17:24.061765300Z"
    }
   },
   "id": "a7414744d28bebf0",
   "execution_count": 16
  },
  {
   "cell_type": "code",
   "outputs": [
    {
     "data": {
      "text/plain": "<tf.Variable 'Variable:0' shape=(3, 2) dtype=int32, numpy=\narray([[3, 4],\n       [5, 6],\n       [7, 8]])>"
     },
     "execution_count": 17,
     "metadata": {},
     "output_type": "execute_result"
    }
   ],
   "source": [
    "A_tf = tf.Variable([[3, 4], [5, 6], [7, 8]])\n",
    "b = tf.Variable([1, 2])\n",
    "A_tf"
   ],
   "metadata": {
    "collapsed": false,
    "ExecuteTime": {
     "end_time": "2024-02-21T05:19:35.067472800Z",
     "start_time": "2024-02-21T05:19:35.032329300Z"
    }
   },
   "id": "2c02b0f673eea8cb",
   "execution_count": 17
  },
  {
   "cell_type": "code",
   "outputs": [
    {
     "data": {
      "text/plain": "<tf.Tensor: shape=(3,), dtype=int32, numpy=array([11, 17, 23])>"
     },
     "execution_count": 18,
     "metadata": {},
     "output_type": "execute_result"
    }
   ],
   "source": [
    "# In TensorFlow we need to specify what kind of multiplication we're performing.\n",
    "tf.linalg.matvec(A_tf, b)"
   ],
   "metadata": {
    "collapsed": false,
    "ExecuteTime": {
     "end_time": "2024-02-21T05:20:09.099695500Z",
     "start_time": "2024-02-21T05:20:09.086067500Z"
    }
   },
   "id": "374391d758169cf",
   "execution_count": 18
  },
  {
   "cell_type": "markdown",
   "source": [
    "Matrix * Matrix"
   ],
   "metadata": {
    "collapsed": false
   },
   "id": "4dd7413bfae30ffe"
  },
  {
   "cell_type": "code",
   "outputs": [
    {
     "data": {
      "text/plain": "array([[1, 9],\n       [2, 0]])"
     },
     "execution_count": 19,
     "metadata": {},
     "output_type": "execute_result"
    }
   ],
   "source": [
    "C = np.array([[1, 9], [2, 0]])\n",
    "C"
   ],
   "metadata": {
    "collapsed": false,
    "ExecuteTime": {
     "end_time": "2024-02-21T05:21:33.088115300Z",
     "start_time": "2024-02-21T05:21:33.079211800Z"
    }
   },
   "id": "915dfc857ae5068b",
   "execution_count": 19
  },
  {
   "cell_type": "code",
   "outputs": [
    {
     "data": {
      "text/plain": "array([[11, 27],\n       [17, 45],\n       [23, 63]])"
     },
     "execution_count": 20,
     "metadata": {},
     "output_type": "execute_result"
    }
   ],
   "source": [
    "np.dot(A, C)"
   ],
   "metadata": {
    "collapsed": false,
    "ExecuteTime": {
     "end_time": "2024-02-21T05:21:42.279186Z",
     "start_time": "2024-02-21T05:21:42.268633600Z"
    }
   },
   "id": "e67b2c7b7ffd6acd",
   "execution_count": 20
  },
  {
   "cell_type": "code",
   "outputs": [
    {
     "data": {
      "text/plain": "tensor([[11, 27],\n        [17, 45],\n        [23, 63]], dtype=torch.int32)"
     },
     "execution_count": 21,
     "metadata": {},
     "output_type": "execute_result"
    }
   ],
   "source": [
    "C_pt = torch.from_numpy(C)\n",
    "torch.linalg.matmul(A_pt, C_pt)"
   ],
   "metadata": {
    "collapsed": false,
    "ExecuteTime": {
     "end_time": "2024-02-21T05:22:21.931037900Z",
     "start_time": "2024-02-21T05:22:21.921432100Z"
    }
   },
   "id": "63f1cdfaf9bb2e6b",
   "execution_count": 21
  },
  {
   "cell_type": "code",
   "outputs": [
    {
     "data": {
      "text/plain": "<tf.Tensor: shape=(3, 2), dtype=int32, numpy=\narray([[11, 27],\n       [17, 45],\n       [23, 63]])>"
     },
     "execution_count": 25,
     "metadata": {},
     "output_type": "execute_result"
    }
   ],
   "source": [
    "C_tf = tf.Variable([[1, 9], [2, 0]])\n",
    "tf.matmul(A_tf, C_tf)"
   ],
   "metadata": {
    "collapsed": false,
    "ExecuteTime": {
     "end_time": "2024-02-21T05:24:00.749467900Z",
     "start_time": "2024-02-21T05:24:00.741189600Z"
    }
   },
   "id": "a607ce796fc5b29b",
   "execution_count": 25
  },
  {
   "cell_type": "code",
   "outputs": [
    {
     "data": {
      "text/plain": "<tf.Tensor: shape=(3, 2), dtype=int32, numpy=\narray([[11, 27],\n       [17, 45],\n       [23, 63]])>"
     },
     "execution_count": 26,
     "metadata": {},
     "output_type": "execute_result"
    }
   ],
   "source": [
    "tf.linalg.matmul(A_tf, C_tf)"
   ],
   "metadata": {
    "collapsed": false,
    "ExecuteTime": {
     "end_time": "2024-02-21T05:24:14.672732600Z",
     "start_time": "2024-02-21T05:24:14.664129300Z"
    }
   },
   "id": "87236a122f01b8b8",
   "execution_count": 26
  },
  {
   "cell_type": "code",
   "outputs": [],
   "source": [],
   "metadata": {
    "collapsed": false
   },
   "id": "273578b56c423aa"
  }
 ],
 "metadata": {
  "kernelspec": {
   "display_name": "Python 3",
   "language": "python",
   "name": "python3"
  },
  "language_info": {
   "codemirror_mode": {
    "name": "ipython",
    "version": 2
   },
   "file_extension": ".py",
   "mimetype": "text/x-python",
   "name": "python",
   "nbconvert_exporter": "python",
   "pygments_lexer": "ipython2",
   "version": "2.7.6"
  }
 },
 "nbformat": 4,
 "nbformat_minor": 5
}
