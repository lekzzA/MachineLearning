{
  "nbformat": 4,
  "nbformat_minor": 0,
  "metadata": {
    "colab": {
      "provenance": []
    },
    "kernelspec": {
      "name": "python3",
      "display_name": "Python 3"
    },
    "language_info": {
      "name": "python"
    }
  },
  "cells": [
    {
      "cell_type": "code",
      "source": [
        "import numpy as np\n",
        "import matplotlib.pyplot as plt\n",
        "from sklearn.metrics import mean_squared_error"
      ],
      "metadata": {
        "id": "ReYUqqGdss6q"
      },
      "execution_count": 52,
      "outputs": []
    },
    {
      "cell_type": "code",
      "source": [
        "class MyLinearRegression:\n",
        "  def __init__(self, lr = 0.1, itr = 1000):\n",
        "    self.lr = lr\n",
        "    self.itr = itr\n",
        "    self.coef = None\n",
        "    self.inter = None\n",
        "  def fit(self, X, y):\n",
        "    m, n = X.shape\n",
        "    self.coef = np.zeros((n,1))\n",
        "    self.inter = 0\n",
        "\n",
        "    for _ in range(self.itr):\n",
        "      y_pred = np.dot(X, self.coef) + self.inter\n",
        "      grad_coef = (1/m) * np.dot(X.T, (y_pred - y))\n",
        "      grad_inter = (1/m) * np.sum(y_pred - y)\n",
        "      self.coef -= self.lr * grad_coef\n",
        "      self.inter -= self.lr * grad_inter\n",
        "\n",
        "  def predict(self, X):\n",
        "    return np.dot(X, self.coef) + self.inter"
      ],
      "metadata": {
        "id": "pBlRcmEn7C9Q"
      },
      "execution_count": 64,
      "outputs": []
    },
    {
      "cell_type": "code",
      "source": [
        "np.random.seed(0)\n",
        "X = 2 * np.random.rand(100, 1)\n",
        "y = 4 + 3 * X + np.random.randn(100,1)"
      ],
      "metadata": {
        "id": "BwU2eDhltOJf"
      },
      "execution_count": 65,
      "outputs": []
    },
    {
      "cell_type": "code",
      "source": [
        "plt.scatter(X, y, color=\"Red\")\n",
        "plt.xlabel(\"X\")\n",
        "plt.ylabel(\"Y\")\n",
        "plt.title(\"Synthetic data for linear regression.\")\n",
        "plt.show()"
      ],
      "metadata": {
        "id": "HOKHyv0I409J"
      },
      "execution_count": null,
      "outputs": []
    },
    {
      "cell_type": "code",
      "source": [
        "model = MyLinearRegression()\n",
        "model.fit(X, y)"
      ],
      "metadata": {
        "id": "WmjPg4Qy6EXl"
      },
      "execution_count": 67,
      "outputs": []
    },
    {
      "cell_type": "code",
      "source": [
        "X_new = np.array([[10]])\n",
        "y_new = model.predict(X_new)\n",
        "y_new"
      ],
      "metadata": {
        "colab": {
          "base_uri": "https://localhost:8080/"
        },
        "id": "md93-8nW9MsH",
        "outputId": "a7bd6b6d-d55c-455f-edd4-b3d5e97b14c9"
      },
      "execution_count": 68,
      "outputs": [
        {
          "output_type": "execute_result",
          "data": {
            "text/plain": [
              "array([[33.90682681]])"
            ]
          },
          "metadata": {},
          "execution_count": 68
        }
      ]
    },
    {
      "cell_type": "code",
      "source": [
        "plt.plot(X, model.predict(X), color=\"Blue\")\n",
        "plt.scatter(X, y)"
      ],
      "metadata": {
        "id": "a9jiNP4oGlkl"
      },
      "execution_count": null,
      "outputs": []
    },
    {
      "cell_type": "code",
      "source": [],
      "metadata": {
        "id": "B-ipEPv-HEYp"
      },
      "execution_count": null,
      "outputs": []
    }
  ]
}