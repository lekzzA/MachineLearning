{
 "cells": [
  {
   "cell_type": "code",
   "execution_count": 10,
   "id": "initial_id",
   "metadata": {
    "collapsed": true,
    "ExecuteTime": {
     "end_time": "2024-02-19T12:44:28.588735400Z",
     "start_time": "2024-02-19T12:44:27.191531500Z"
    }
   },
   "outputs": [],
   "source": [
    "import numpy as np\n",
    "import tensorflow as tf\n",
    "import torch"
   ]
  },
  {
   "cell_type": "code",
   "outputs": [
    {
     "data": {
      "text/plain": "array([[12, 13, 24],\n       [21, 32, 41]])"
     },
     "execution_count": 8,
     "metadata": {},
     "output_type": "execute_result"
    }
   ],
   "source": [
    "# Array in numpy\n",
    "x = np.array([[12, 13, 24], [21, 32, 41]])\n",
    "x"
   ],
   "metadata": {
    "collapsed": false,
    "ExecuteTime": {
     "end_time": "2024-02-19T12:44:05.812701900Z",
     "start_time": "2024-02-19T12:44:05.800215900Z"
    }
   },
   "id": "ad933abbcc96404a",
   "execution_count": 8
  },
  {
   "cell_type": "code",
   "outputs": [
    {
     "data": {
      "text/plain": "array([[12, 21],\n       [13, 32],\n       [24, 41]])"
     },
     "execution_count": 9,
     "metadata": {},
     "output_type": "execute_result"
    }
   ],
   "source": [
    "x = x.T\n",
    "x"
   ],
   "metadata": {
    "collapsed": false,
    "ExecuteTime": {
     "end_time": "2024-02-19T12:44:07.001342500Z",
     "start_time": "2024-02-19T12:44:06.989481800Z"
    }
   },
   "id": "17f818d6506e69f4",
   "execution_count": 9
  },
  {
   "cell_type": "code",
   "outputs": [
    {
     "data": {
      "text/plain": "array([[12, 13, 24],\n       [21, 32, 41]], dtype=int64)"
     },
     "execution_count": 14,
     "metadata": {},
     "output_type": "execute_result"
    }
   ],
   "source": [
    "# Array in PyTorch\n",
    "x_pt = torch.tensor([[12, 13, 24], [21, 32, 41]])\n",
    "x_pt.numpy()"
   ],
   "metadata": {
    "collapsed": false,
    "ExecuteTime": {
     "end_time": "2024-02-19T12:44:50.013655600Z",
     "start_time": "2024-02-19T12:44:49.991729200Z"
    }
   },
   "id": "2b4992346b3a938e",
   "execution_count": 14
  },
  {
   "cell_type": "code",
   "outputs": [
    {
     "data": {
      "text/plain": "array([[12, 21],\n       [13, 32],\n       [24, 41]], dtype=int64)"
     },
     "execution_count": 18,
     "metadata": {},
     "output_type": "execute_result"
    }
   ],
   "source": [
    "x_pt = x_pt.T\n",
    "x_pt.numpy()"
   ],
   "metadata": {
    "collapsed": false,
    "ExecuteTime": {
     "end_time": "2024-02-19T12:45:22.172781200Z",
     "start_time": "2024-02-19T12:45:22.138504900Z"
    }
   },
   "id": "ecf8fa209e1d9ded",
   "execution_count": 18
  },
  {
   "cell_type": "code",
   "outputs": [
    {
     "data": {
      "text/plain": "array([[12, 13, 24],\n       [21, 32, 41]])"
     },
     "execution_count": 20,
     "metadata": {},
     "output_type": "execute_result"
    }
   ],
   "source": [
    "# Array in TensorFlow\n",
    "x_tf = tf.Variable([[12, 13, 24], [21, 32, 41]])\n",
    "x_tf.numpy()"
   ],
   "metadata": {
    "collapsed": false,
    "ExecuteTime": {
     "end_time": "2024-02-19T12:45:49.918141400Z",
     "start_time": "2024-02-19T12:45:49.892977600Z"
    }
   },
   "id": "b655fa5fec9225e0",
   "execution_count": 20
  },
  {
   "cell_type": "code",
   "outputs": [
    {
     "data": {
      "text/plain": "array([[12, 21],\n       [13, 32],\n       [24, 41]])"
     },
     "execution_count": 21,
     "metadata": {},
     "output_type": "execute_result"
    }
   ],
   "source": [
    "x_tf = tf.transpose(x_tf)\n",
    "x_tf.numpy()"
   ],
   "metadata": {
    "collapsed": false,
    "ExecuteTime": {
     "end_time": "2024-02-19T12:46:10.221676800Z",
     "start_time": "2024-02-19T12:46:10.198569100Z"
    }
   },
   "id": "3bed6e469c5d2f48",
   "execution_count": 21
  },
  {
   "cell_type": "code",
   "outputs": [],
   "source": [],
   "metadata": {
    "collapsed": false
   },
   "id": "7a7d9aa667e3dd65"
  }
 ],
 "metadata": {
  "kernelspec": {
   "display_name": "Python 3",
   "language": "python",
   "name": "python3"
  },
  "language_info": {
   "codemirror_mode": {
    "name": "ipython",
    "version": 2
   },
   "file_extension": ".py",
   "mimetype": "text/x-python",
   "name": "python",
   "nbconvert_exporter": "python",
   "pygments_lexer": "ipython2",
   "version": "2.7.6"
  }
 },
 "nbformat": 4,
 "nbformat_minor": 5
}
