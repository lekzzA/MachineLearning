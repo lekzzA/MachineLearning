{
 "cells": [
  {
   "cell_type": "code",
   "execution_count": 2,
   "id": "initial_id",
   "metadata": {
    "collapsed": true,
    "ExecuteTime": {
     "end_time": "2024-02-20T05:41:45.671435Z",
     "start_time": "2024-02-20T05:41:45.663288700Z"
    }
   },
   "outputs": [],
   "source": [
    "import numpy as np\n",
    "import torch"
   ]
  },
  {
   "cell_type": "code",
   "outputs": [
    {
     "data": {
      "text/plain": "tensor([[ 42,   4,   7,  99],\n        [-99,  -3,  17,  22]])"
     },
     "execution_count": 3,
     "metadata": {},
     "output_type": "execute_result"
    }
   ],
   "source": [
    "# Calculate transpose of matrix Y.\n",
    "Y = torch.tensor([[42, 4, 7, 99], [-99, -3, 17, 22]])\n",
    "Y"
   ],
   "metadata": {
    "collapsed": false,
    "ExecuteTime": {
     "end_time": "2024-02-20T05:42:31.219361900Z",
     "start_time": "2024-02-20T05:42:31.205150800Z"
    }
   },
   "id": "259ef36aa49f8710",
   "execution_count": 3
  },
  {
   "cell_type": "code",
   "outputs": [
    {
     "data": {
      "text/plain": "tensor([[ 42, -99],\n        [  4,  -3],\n        [  7,  17],\n        [ 99,  22]])"
     },
     "execution_count": 4,
     "metadata": {},
     "output_type": "execute_result"
    }
   ],
   "source": [
    "Y = Y.T\n",
    "Y"
   ],
   "metadata": {
    "collapsed": false,
    "ExecuteTime": {
     "end_time": "2024-02-20T05:42:59.029118800Z",
     "start_time": "2024-02-20T05:42:59.016164800Z"
    }
   },
   "id": "5c7b145ca72bc2a4",
   "execution_count": 4
  },
  {
   "cell_type": "code",
   "outputs": [],
   "source": [
    "# Calculate Hadamard product of A and B\n",
    "A = torch.tensor([[25, 10], [-2, 1]])\n",
    "B = torch.tensor([[-1, 7], [10, 8]])"
   ],
   "metadata": {
    "collapsed": false,
    "ExecuteTime": {
     "end_time": "2024-02-20T05:47:42.770116400Z",
     "start_time": "2024-02-20T05:47:42.758822700Z"
    }
   },
   "id": "68e1ecf48535ca76",
   "execution_count": 5
  },
  {
   "cell_type": "code",
   "outputs": [
    {
     "data": {
      "text/plain": "tensor([[-25,  70],\n        [-20,   8]])"
     },
     "execution_count": 7,
     "metadata": {},
     "output_type": "execute_result"
    }
   ],
   "source": [
    "C = A * B\n",
    "C"
   ],
   "metadata": {
    "collapsed": false,
    "ExecuteTime": {
     "end_time": "2024-02-20T05:48:15.992293Z",
     "start_time": "2024-02-20T05:48:15.965583400Z"
    }
   },
   "id": "398019cc29a670e7",
   "execution_count": 7
  },
  {
   "cell_type": "code",
   "outputs": [],
   "source": [],
   "metadata": {
    "collapsed": false
   },
   "id": "cf2db810efbd6e1e"
  }
 ],
 "metadata": {
  "kernelspec": {
   "display_name": "Python 3",
   "language": "python",
   "name": "python3"
  },
  "language_info": {
   "codemirror_mode": {
    "name": "ipython",
    "version": 2
   },
   "file_extension": ".py",
   "mimetype": "text/x-python",
   "name": "python",
   "nbconvert_exporter": "python",
   "pygments_lexer": "ipython2",
   "version": "2.7.6"
  }
 },
 "nbformat": 4,
 "nbformat_minor": 5
}
