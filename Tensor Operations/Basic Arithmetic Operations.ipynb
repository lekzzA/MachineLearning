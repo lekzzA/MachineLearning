{
 "cells": [
  {
   "cell_type": "code",
   "execution_count": 1,
   "id": "initial_id",
   "metadata": {
    "collapsed": true,
    "ExecuteTime": {
     "end_time": "2024-02-19T12:58:39.979628700Z",
     "start_time": "2024-02-19T12:58:35.412929300Z"
    }
   },
   "outputs": [
    {
     "name": "stdout",
     "output_type": "stream",
     "text": [
      "WARNING:tensorflow:From C:\\Users\\Tanuj.Bhatt\\Downloads\\LinAlgebra\\LinAlgebra\\venv\\Lib\\site-packages\\keras\\src\\losses.py:2976: The name tf.losses.sparse_softmax_cross_entropy is deprecated. Please use tf.compat.v1.losses.sparse_softmax_cross_entropy instead.\n"
     ]
    }
   ],
   "source": [
    "import numpy as np\n",
    "import tensorflow as tf\n",
    "import torch"
   ]
  },
  {
   "cell_type": "code",
   "outputs": [],
   "source": [
    "x = np.array([[12, 13, 24], [21, 32, 41]])\n",
    "x_tf = tf.Variable([[12, 13, 24], [21, 32, 41]])\n",
    "x_pt = torch.tensor([[12, 13, 24], [21, 32, 41]])"
   ],
   "metadata": {
    "collapsed": false,
    "ExecuteTime": {
     "end_time": "2024-02-19T12:59:27.227071300Z",
     "start_time": "2024-02-19T12:59:27.212960600Z"
    }
   },
   "id": "d2cebff350d25175",
   "execution_count": 3
  },
  {
   "cell_type": "code",
   "outputs": [
    {
     "data": {
      "text/plain": "array([[12, 13, 24],\n       [21, 32, 41]])"
     },
     "execution_count": 4,
     "metadata": {},
     "output_type": "execute_result"
    }
   ],
   "source": [
    "x"
   ],
   "metadata": {
    "collapsed": false,
    "ExecuteTime": {
     "end_time": "2024-02-19T12:59:35.113979200Z",
     "start_time": "2024-02-19T12:59:35.097265400Z"
    }
   },
   "id": "503c03864490df87",
   "execution_count": 4
  },
  {
   "cell_type": "code",
   "outputs": [
    {
     "data": {
      "text/plain": "array([[14, 15, 26],\n       [23, 34, 43]])"
     },
     "execution_count": 5,
     "metadata": {},
     "output_type": "execute_result"
    }
   ],
   "source": [
    "# Scalar addition to matrix.\n",
    "x + 2"
   ],
   "metadata": {
    "collapsed": false,
    "ExecuteTime": {
     "end_time": "2024-02-19T12:59:38.732463500Z",
     "start_time": "2024-02-19T12:59:38.691310800Z"
    }
   },
   "id": "6cd81a7a2763d2cd",
   "execution_count": 5
  },
  {
   "cell_type": "code",
   "outputs": [
    {
     "data": {
      "text/plain": "array([[24, 26, 48],\n       [42, 64, 82]])"
     },
     "execution_count": 6,
     "metadata": {},
     "output_type": "execute_result"
    }
   ],
   "source": [
    "x * 2"
   ],
   "metadata": {
    "collapsed": false,
    "ExecuteTime": {
     "end_time": "2024-02-19T12:59:42.584394200Z",
     "start_time": "2024-02-19T12:59:42.534894900Z"
    }
   },
   "id": "4514e679583476b1",
   "execution_count": 6
  },
  {
   "cell_type": "code",
   "outputs": [
    {
     "data": {
      "text/plain": "array([[14, 15, 26],\n       [23, 34, 43]])"
     },
     "execution_count": 8,
     "metadata": {},
     "output_type": "execute_result"
    }
   ],
   "source": [
    "(x_tf + 2).numpy()\n",
    "# We can use tf.multiply or tf.add also. Operators are overloaded."
   ],
   "metadata": {
    "collapsed": false,
    "ExecuteTime": {
     "end_time": "2024-02-19T12:59:59.194397400Z",
     "start_time": "2024-02-19T12:59:59.177071Z"
    }
   },
   "id": "16cf1ceabbc41ed",
   "execution_count": 8
  },
  {
   "cell_type": "code",
   "outputs": [
    {
     "data": {
      "text/plain": "array([[14, 15, 26],\n       [23, 34, 43]], dtype=int64)"
     },
     "execution_count": 9,
     "metadata": {},
     "output_type": "execute_result"
    }
   ],
   "source": [
    "(x_pt + 2).numpy()\n",
    "# We can use torch.mul or torch.add also. Operators are overloaded."
   ],
   "metadata": {
    "collapsed": false,
    "ExecuteTime": {
     "end_time": "2024-02-19T13:00:06.848555900Z",
     "start_time": "2024-02-19T13:00:06.826575200Z"
    }
   },
   "id": "6a165c7354dd672",
   "execution_count": 9
  },
  {
   "cell_type": "code",
   "outputs": [
    {
     "data": {
      "text/plain": "array([[1, 3, 4],\n       [2, 3, 1]])"
     },
     "execution_count": 24,
     "metadata": {},
     "output_type": "execute_result"
    }
   ],
   "source": [
    "A = np.array([[1, 3, 4], [2, 3, 1]])\n",
    "A"
   ],
   "metadata": {
    "collapsed": false,
    "ExecuteTime": {
     "end_time": "2024-02-19T13:05:48.113833400Z",
     "start_time": "2024-02-19T13:05:48.084237100Z"
    }
   },
   "id": "1db847a72ef95466",
   "execution_count": 24
  },
  {
   "cell_type": "code",
   "outputs": [
    {
     "data": {
      "text/plain": "array([[13, 16, 28],\n       [23, 35, 42]])"
     },
     "execution_count": 25,
     "metadata": {},
     "output_type": "execute_result"
    }
   ],
   "source": [
    "(x + A)"
   ],
   "metadata": {
    "collapsed": false,
    "ExecuteTime": {
     "end_time": "2024-02-19T13:05:48.457931400Z",
     "start_time": "2024-02-19T13:05:48.439089400Z"
    }
   },
   "id": "db920559c4243037",
   "execution_count": 25
  },
  {
   "cell_type": "code",
   "outputs": [
    {
     "data": {
      "text/plain": "array([[13, 16, 28],\n       [23, 35, 42]])"
     },
     "execution_count": 26,
     "metadata": {},
     "output_type": "execute_result"
    }
   ],
   "source": [
    "(x_tf + A).numpy()"
   ],
   "metadata": {
    "collapsed": false,
    "ExecuteTime": {
     "end_time": "2024-02-19T13:05:48.835133100Z",
     "start_time": "2024-02-19T13:05:48.817043400Z"
    }
   },
   "id": "7002e46acecb45fb",
   "execution_count": 26
  },
  {
   "cell_type": "code",
   "outputs": [
    {
     "data": {
      "text/plain": "array([[13, 16, 28],\n       [23, 35, 42]], dtype=int64)"
     },
     "execution_count": 27,
     "metadata": {},
     "output_type": "execute_result"
    }
   ],
   "source": [
    "(x_pt + A).numpy()"
   ],
   "metadata": {
    "collapsed": false,
    "ExecuteTime": {
     "end_time": "2024-02-19T13:05:49.173922500Z",
     "start_time": "2024-02-19T13:05:49.156914300Z"
    }
   },
   "id": "90961ba0fb52ff7c",
   "execution_count": 27
  },
  {
   "cell_type": "code",
   "outputs": [
    {
     "data": {
      "text/plain": "array([[12, 39, 96],\n       [42, 96, 41]])"
     },
     "execution_count": 28,
     "metadata": {},
     "output_type": "execute_result"
    }
   ],
   "source": [
    "# When we multiply two same dimensional tensors, it is element by element multiplication and not a matrix multiplication.\n",
    "# Also known as Hadmard multiplication.\n",
    "(x * A)"
   ],
   "metadata": {
    "collapsed": false,
    "ExecuteTime": {
     "end_time": "2024-02-19T13:05:49.543471400Z",
     "start_time": "2024-02-19T13:05:49.531966300Z"
    }
   },
   "id": "b8b592a5bcf32adb",
   "execution_count": 28
  },
  {
   "cell_type": "code",
   "outputs": [
    {
     "data": {
      "text/plain": "array([[12, 39, 96],\n       [42, 96, 41]])"
     },
     "execution_count": 29,
     "metadata": {},
     "output_type": "execute_result"
    }
   ],
   "source": [
    "(x_tf * A).numpy()"
   ],
   "metadata": {
    "collapsed": false,
    "ExecuteTime": {
     "end_time": "2024-02-19T13:06:05.230603Z",
     "start_time": "2024-02-19T13:06:05.190638800Z"
    }
   },
   "id": "c9db70efee64806c",
   "execution_count": 29
  },
  {
   "cell_type": "code",
   "outputs": [
    {
     "data": {
      "text/plain": "array([[12, 39, 96],\n       [42, 96, 41]], dtype=int64)"
     },
     "execution_count": 30,
     "metadata": {},
     "output_type": "execute_result"
    }
   ],
   "source": [
    "(x_pt * A).numpy()"
   ],
   "metadata": {
    "collapsed": false,
    "ExecuteTime": {
     "end_time": "2024-02-19T13:06:14.632957900Z",
     "start_time": "2024-02-19T13:06:14.615084200Z"
    }
   },
   "id": "37ef96fe9e39e5bf",
   "execution_count": 30
  },
  {
   "cell_type": "code",
   "outputs": [],
   "source": [],
   "metadata": {
    "collapsed": false
   },
   "id": "e9e07d1aa9cec317"
  }
 ],
 "metadata": {
  "kernelspec": {
   "display_name": "Python 3",
   "language": "python",
   "name": "python3"
  },
  "language_info": {
   "codemirror_mode": {
    "name": "ipython",
    "version": 2
   },
   "file_extension": ".py",
   "mimetype": "text/x-python",
   "name": "python",
   "nbconvert_exporter": "python",
   "pygments_lexer": "ipython2",
   "version": "2.7.6"
  }
 },
 "nbformat": 4,
 "nbformat_minor": 5
}
