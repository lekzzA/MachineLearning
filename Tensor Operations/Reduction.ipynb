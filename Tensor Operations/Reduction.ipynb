{
 "cells": [
  {
   "cell_type": "markdown",
   "source": [
    "Reduction - Calculating some of all the elements in a vector.\n",
    "\n",
    "sigma(xi)\n",
    "for matrix\n",
    "sigma(xij)"
   ],
   "metadata": {
    "collapsed": false
   },
   "id": "5e44799556a68728"
  },
  {
   "cell_type": "code",
   "outputs": [
    {
     "name": "stdout",
     "output_type": "stream",
     "text": [
      "WARNING:tensorflow:From C:\\Users\\Tanuj.Bhatt\\Downloads\\LinAlgebra\\LinAlgebra\\venv\\Lib\\site-packages\\keras\\src\\losses.py:2976: The name tf.losses.sparse_softmax_cross_entropy is deprecated. Please use tf.compat.v1.losses.sparse_softmax_cross_entropy instead.\n"
     ]
    }
   ],
   "source": [
    "import numpy as np\n",
    "import tensorflow as tf\n",
    "import torch"
   ],
   "metadata": {
    "collapsed": false,
    "ExecuteTime": {
     "end_time": "2024-02-19T13:12:03.159348500Z",
     "start_time": "2024-02-19T13:11:58.469502500Z"
    }
   },
   "id": "3a633f6a44ef4091",
   "execution_count": 1
  },
  {
   "cell_type": "code",
   "outputs": [],
   "source": [
    "X = np.array([[12, 13, 24], [21, 32, 41]])\n",
    "X_pt = torch.tensor([[12, 13, 24], [21, 32, 41]])\n",
    "X_tf = tf.Variable([[12, 13, 24], [21, 32, 41]])"
   ],
   "metadata": {
    "collapsed": false,
    "ExecuteTime": {
     "end_time": "2024-02-19T13:12:40.182860Z",
     "start_time": "2024-02-19T13:12:40.149184700Z"
    }
   },
   "id": "2f6daabf0cde7849",
   "execution_count": 2
  },
  {
   "cell_type": "code",
   "outputs": [
    {
     "data": {
      "text/plain": "143"
     },
     "execution_count": 3,
     "metadata": {},
     "output_type": "execute_result"
    }
   ],
   "source": [
    "X.sum()"
   ],
   "metadata": {
    "collapsed": false,
    "ExecuteTime": {
     "end_time": "2024-02-19T13:17:28.353122300Z",
     "start_time": "2024-02-19T13:17:28.296075600Z"
    }
   },
   "id": "119c2516f7da7c95",
   "execution_count": 3
  },
  {
   "cell_type": "code",
   "outputs": [
    {
     "data": {
      "text/plain": "tensor(143)"
     },
     "execution_count": 8,
     "metadata": {},
     "output_type": "execute_result"
    }
   ],
   "source": [
    "torch.sum(X_pt)"
   ],
   "metadata": {
    "collapsed": false,
    "ExecuteTime": {
     "end_time": "2024-02-19T13:20:19.256281500Z",
     "start_time": "2024-02-19T13:20:19.239827100Z"
    }
   },
   "id": "2e6c5408166c9b1e",
   "execution_count": 8
  },
  {
   "cell_type": "code",
   "outputs": [
    {
     "data": {
      "text/plain": "<tf.Tensor: shape=(), dtype=int32, numpy=143>"
     },
     "execution_count": 5,
     "metadata": {},
     "output_type": "execute_result"
    }
   ],
   "source": [
    "tf.reduce_sum(X_tf)"
   ],
   "metadata": {
    "collapsed": false,
    "ExecuteTime": {
     "end_time": "2024-02-19T13:18:01.576396700Z",
     "start_time": "2024-02-19T13:18:01.563335300Z"
    }
   },
   "id": "8a4575e3cbcbe0cc",
   "execution_count": 5
  },
  {
   "cell_type": "code",
   "outputs": [
    {
     "data": {
      "text/plain": "array([33, 45, 65])"
     },
     "execution_count": 6,
     "metadata": {},
     "output_type": "execute_result"
    }
   ],
   "source": [
    "# Can be calculated along an axis also.\n",
    "# Perform sum along the column.\n",
    "X.sum(axis=0)"
   ],
   "metadata": {
    "collapsed": false,
    "ExecuteTime": {
     "end_time": "2024-02-19T13:19:01.065426900Z",
     "start_time": "2024-02-19T13:19:01.036239700Z"
    }
   },
   "id": "83919aae337dcb7b",
   "execution_count": 6
  },
  {
   "cell_type": "code",
   "outputs": [
    {
     "data": {
      "text/plain": "array([49, 94])"
     },
     "execution_count": 7,
     "metadata": {},
     "output_type": "execute_result"
    }
   ],
   "source": [
    "X.sum(axis=1)"
   ],
   "metadata": {
    "collapsed": false,
    "ExecuteTime": {
     "end_time": "2024-02-19T13:19:37.050943Z",
     "start_time": "2024-02-19T13:19:37.036490600Z"
    }
   },
   "id": "514dbceaa5307bb4",
   "execution_count": 7
  },
  {
   "cell_type": "code",
   "outputs": [
    {
     "data": {
      "text/plain": "tensor([33, 45, 65])"
     },
     "execution_count": 9,
     "metadata": {},
     "output_type": "execute_result"
    }
   ],
   "source": [
    "torch.sum(X_pt, 0)"
   ],
   "metadata": {
    "collapsed": false,
    "ExecuteTime": {
     "end_time": "2024-02-19T13:20:31.998237900Z",
     "start_time": "2024-02-19T13:20:31.980968700Z"
    }
   },
   "id": "d611d460d621da39",
   "execution_count": 9
  },
  {
   "cell_type": "code",
   "outputs": [
    {
     "data": {
      "text/plain": "tensor([49, 94])"
     },
     "execution_count": 10,
     "metadata": {},
     "output_type": "execute_result"
    }
   ],
   "source": [
    "torch.sum(X_pt, 1)"
   ],
   "metadata": {
    "collapsed": false,
    "ExecuteTime": {
     "end_time": "2024-02-19T13:20:39.470738500Z",
     "start_time": "2024-02-19T13:20:39.456414100Z"
    }
   },
   "id": "afb35c73bdfd67a6",
   "execution_count": 10
  },
  {
   "cell_type": "code",
   "outputs": [
    {
     "data": {
      "text/plain": "<tf.Tensor: shape=(3,), dtype=int32, numpy=array([33, 45, 65])>"
     },
     "execution_count": 11,
     "metadata": {},
     "output_type": "execute_result"
    }
   ],
   "source": [
    "tf.reduce_sum(X_tf, 0)"
   ],
   "metadata": {
    "collapsed": false,
    "ExecuteTime": {
     "end_time": "2024-02-19T13:20:49.539888100Z",
     "start_time": "2024-02-19T13:20:49.525815700Z"
    }
   },
   "id": "e99a64099bfa4098",
   "execution_count": 11
  },
  {
   "cell_type": "code",
   "outputs": [
    {
     "data": {
      "text/plain": "<tf.Tensor: shape=(2,), dtype=int32, numpy=array([49, 94])>"
     },
     "execution_count": 12,
     "metadata": {},
     "output_type": "execute_result"
    }
   ],
   "source": [
    "tf.reduce_sum(X_tf, 1)"
   ],
   "metadata": {
    "collapsed": false,
    "ExecuteTime": {
     "end_time": "2024-02-19T13:20:58.444386600Z",
     "start_time": "2024-02-19T13:20:58.426557800Z"
    }
   },
   "id": "1e5bca371606b9d6",
   "execution_count": 12
  },
  {
   "cell_type": "markdown",
   "source": [
    "Other reductions can also be performed along any axes like -\n",
    "    Maximum\n",
    "    Minimum\n",
    "    Mean\n",
    "    Product"
   ],
   "metadata": {
    "collapsed": false
   },
   "id": "bc9e647e59e1d0fc"
  },
  {
   "cell_type": "code",
   "outputs": [],
   "source": [],
   "metadata": {
    "collapsed": false
   },
   "id": "f0620b9ca26d9118"
  }
 ],
 "metadata": {
  "kernelspec": {
   "display_name": "Python 3",
   "language": "python",
   "name": "python3"
  },
  "language_info": {
   "codemirror_mode": {
    "name": "ipython",
    "version": 2
   },
   "file_extension": ".py",
   "mimetype": "text/x-python",
   "name": "python",
   "nbconvert_exporter": "python",
   "pygments_lexer": "ipython2",
   "version": "2.7.6"
  }
 },
 "nbformat": 4,
 "nbformat_minor": 5
}
