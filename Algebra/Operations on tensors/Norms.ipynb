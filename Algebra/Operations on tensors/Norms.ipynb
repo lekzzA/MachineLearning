{
 "cells": [
  {
   "cell_type": "code",
   "execution_count": 3,
   "id": "initial_id",
   "metadata": {
    "collapsed": true,
    "ExecuteTime": {
     "end_time": "2024-02-19T07:32:15.144786700Z",
     "start_time": "2024-02-19T07:32:15.139779800Z"
    }
   },
   "outputs": [
    {
     "data": {
      "text/plain": "tensor([12, 16, 25])"
     },
     "execution_count": 3,
     "metadata": {},
     "output_type": "execute_result"
    }
   ],
   "source": [
    "import torch\n",
    "import numpy as np\n",
    "x = torch.tensor([12, 16, 25])\n",
    "x"
   ]
  },
  {
   "cell_type": "markdown",
   "source": [
    "Calculating L-2 Norm\n",
    "\n",
    "Euclidean distance from origin vector.\n",
    "x = underroot(sigma[xi**2])"
   ],
   "metadata": {
    "collapsed": false
   },
   "id": "ac4fb484c805f372"
  },
  {
   "cell_type": "code",
   "outputs": [
    {
     "data": {
      "text/plain": "32.01562118716424"
     },
     "execution_count": 5,
     "metadata": {},
     "output_type": "execute_result"
    }
   ],
   "source": [
    "(12**2 + 16**2 + 25**2)**(1/2)"
   ],
   "metadata": {
    "collapsed": false,
    "ExecuteTime": {
     "end_time": "2024-02-19T07:32:29.457267800Z",
     "start_time": "2024-02-19T07:32:29.452748Z"
    }
   },
   "id": "97702ea4fbc5e050",
   "execution_count": 5
  },
  {
   "cell_type": "code",
   "outputs": [
    {
     "data": {
      "text/plain": "32.01562118716424"
     },
     "execution_count": 7,
     "metadata": {},
     "output_type": "execute_result"
    }
   ],
   "source": [
    "np.linalg.norm(x)"
   ],
   "metadata": {
    "collapsed": false,
    "ExecuteTime": {
     "end_time": "2024-02-19T07:33:25.129768800Z",
     "start_time": "2024-02-19T07:33:25.120583400Z"
    }
   },
   "id": "5d378e5f5b5a4cd8",
   "execution_count": 7
  },
  {
   "cell_type": "markdown",
   "source": [
    "Unit Vector -> Vector with Unit Norm"
   ],
   "metadata": {
    "collapsed": false
   },
   "id": "36222761a7efb8ba"
  },
  {
   "cell_type": "markdown",
   "source": [
    "L1 Norm\n",
    "xi = Sigma(xi)\n",
    "\n",
    "Varies linearly at all locations whether near or far from origin."
   ],
   "metadata": {
    "collapsed": false
   },
   "id": "ade9390d34b81cb3"
  },
  {
   "cell_type": "code",
   "outputs": [
    {
     "data": {
      "text/plain": "53"
     },
     "execution_count": 8,
     "metadata": {},
     "output_type": "execute_result"
    }
   ],
   "source": [
    "np.abs(12) + np.abs(16) + np.abs(25)"
   ],
   "metadata": {
    "collapsed": false,
    "ExecuteTime": {
     "end_time": "2024-02-19T07:36:32.209293100Z",
     "start_time": "2024-02-19T07:36:32.201431700Z"
    }
   },
   "id": "da4b3acde532ea33",
   "execution_count": 8
  },
  {
   "cell_type": "markdown",
   "source": [
    "Squared L2 Norm\n",
    "We don't take underroot in L2 norm\n",
    "\n",
    "Computationally cheaper to use than L2 norm.\n",
    "sq l2 norm = x.xT"
   ],
   "metadata": {
    "collapsed": false
   },
   "id": "95bcfe33c5fd8715"
  },
  {
   "cell_type": "code",
   "outputs": [
    {
     "data": {
      "text/plain": "1025"
     },
     "execution_count": 9,
     "metadata": {},
     "output_type": "execute_result"
    }
   ],
   "source": [
    "(12**2 + 16**2 + 25**2)"
   ],
   "metadata": {
    "collapsed": false,
    "ExecuteTime": {
     "end_time": "2024-02-19T07:41:02.793893400Z",
     "start_time": "2024-02-19T07:41:02.783336700Z"
    }
   },
   "id": "42c099f6cec04f9a",
   "execution_count": 9
  },
  {
   "cell_type": "code",
   "outputs": [
    {
     "data": {
      "text/plain": "1025"
     },
     "execution_count": 10,
     "metadata": {},
     "output_type": "execute_result"
    }
   ],
   "source": [
    "np.dot(x,x)"
   ],
   "metadata": {
    "collapsed": false,
    "ExecuteTime": {
     "end_time": "2024-02-19T07:41:14.967263Z",
     "start_time": "2024-02-19T07:41:14.959167900Z"
    }
   },
   "id": "ae9f22a5be150407",
   "execution_count": 10
  },
  {
   "cell_type": "markdown",
   "source": [
    "Max Norm\n",
    "\n",
    "Return the greates absolute value."
   ],
   "metadata": {
    "collapsed": false
   },
   "id": "6d4d97e91e31248c"
  },
  {
   "cell_type": "code",
   "outputs": [
    {
     "data": {
      "text/plain": "tensor([12, 16, 25])"
     },
     "execution_count": 11,
     "metadata": {},
     "output_type": "execute_result"
    }
   ],
   "source": [
    "x"
   ],
   "metadata": {
    "collapsed": false,
    "ExecuteTime": {
     "end_time": "2024-02-19T07:42:40.298010700Z",
     "start_time": "2024-02-19T07:42:40.289771Z"
    }
   },
   "id": "97ae607cf6df25c",
   "execution_count": 11
  },
  {
   "cell_type": "code",
   "outputs": [
    {
     "data": {
      "text/plain": "25"
     },
     "execution_count": 14,
     "metadata": {},
     "output_type": "execute_result"
    }
   ],
   "source": [
    "np.max([np.abs(x[0].numpy()), np.abs(x[1].numpy()), np.abs(x[2].numpy())])"
   ],
   "metadata": {
    "collapsed": false,
    "ExecuteTime": {
     "end_time": "2024-02-19T07:43:58.013848200Z",
     "start_time": "2024-02-19T07:43:58.007399600Z"
    }
   },
   "id": "f6275eea3f6351d4",
   "execution_count": 14
  }
 ],
 "metadata": {
  "kernelspec": {
   "display_name": "Python 3",
   "language": "python",
   "name": "python3"
  },
  "language_info": {
   "codemirror_mode": {
    "name": "ipython",
    "version": 2
   },
   "file_extension": ".py",
   "mimetype": "text/x-python",
   "name": "python",
   "nbconvert_exporter": "python",
   "pygments_lexer": "ipython2",
   "version": "2.7.6"
  }
 },
 "nbformat": 4,
 "nbformat_minor": 5
}
