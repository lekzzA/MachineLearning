{
 "cells": [
  {
   "cell_type": "markdown",
   "source": [
    "2d array / Matrices"
   ],
   "metadata": {
    "collapsed": false
   },
   "id": "df904888f841b543"
  },
  {
   "cell_type": "code",
   "outputs": [],
   "source": [
    "import numpy as np"
   ],
   "metadata": {
    "collapsed": false,
    "ExecuteTime": {
     "end_time": "2024-02-19T11:12:39.581852400Z",
     "start_time": "2024-02-19T11:12:39.495522Z"
    }
   },
   "id": "bb2f1a378a33ea4b",
   "execution_count": 1
  },
  {
   "cell_type": "code",
   "outputs": [
    {
     "data": {
      "text/plain": "array([[10, 20],\n       [ 5, 89],\n       [44,  8]])"
     },
     "execution_count": 2,
     "metadata": {},
     "output_type": "execute_result"
    }
   ],
   "source": [
    "X = np.array([[10,20], [5,89], [44,8]])\n",
    "X"
   ],
   "metadata": {
    "collapsed": false,
    "ExecuteTime": {
     "end_time": "2024-02-19T11:13:01.011032600Z",
     "start_time": "2024-02-19T11:13:00.984906500Z"
    }
   },
   "id": "befa9550ebe838e0",
   "execution_count": 2
  },
  {
   "cell_type": "code",
   "outputs": [
    {
     "data": {
      "text/plain": "(3, 2)"
     },
     "execution_count": 3,
     "metadata": {},
     "output_type": "execute_result"
    }
   ],
   "source": [
    "X.shape"
   ],
   "metadata": {
    "collapsed": false,
    "ExecuteTime": {
     "end_time": "2024-02-19T11:13:10.209735700Z",
     "start_time": "2024-02-19T11:13:10.195744600Z"
    }
   },
   "id": "492c5aa15fd18bc",
   "execution_count": 3
  },
  {
   "cell_type": "code",
   "outputs": [
    {
     "data": {
      "text/plain": "6"
     },
     "execution_count": 4,
     "metadata": {},
     "output_type": "execute_result"
    }
   ],
   "source": [
    "X.size"
   ],
   "metadata": {
    "collapsed": false,
    "ExecuteTime": {
     "end_time": "2024-02-19T11:13:15.471146400Z",
     "start_time": "2024-02-19T11:13:15.460690Z"
    }
   },
   "id": "806d8ffa3abbb97e",
   "execution_count": 4
  },
  {
   "cell_type": "code",
   "outputs": [
    {
     "data": {
      "text/plain": "array([10,  5, 44])"
     },
     "execution_count": 8,
     "metadata": {},
     "output_type": "execute_result"
    }
   ],
   "source": [
    "X[:,0]  # ':' is used for slicing rows or columns\n",
    "# 1:2 means elements from index 1 to 2 (Excluding 2)\n",
    "# 1:6 means elements from index 1 to 6 (Excluding 6)\n",
    "# Special case --> ':' which is empty colon, it means all the indices.\n",
    "# X[:,0] means all the indices in rows, and 0th column. And it gives all the rows of column 0."
   ],
   "metadata": {
    "collapsed": false,
    "ExecuteTime": {
     "end_time": "2024-02-19T11:18:36.514555800Z",
     "start_time": "2024-02-19T11:18:36.493904600Z"
    }
   },
   "id": "a1ef19e687ab9fc4",
   "execution_count": 8
  },
  {
   "cell_type": "code",
   "outputs": [],
   "source": [],
   "metadata": {
    "collapsed": false
   },
   "id": "c5d8ccb64abacf9e"
  }
 ],
 "metadata": {
  "kernelspec": {
   "display_name": "Python 3",
   "language": "python",
   "name": "python3"
  },
  "language_info": {
   "codemirror_mode": {
    "name": "ipython",
    "version": 2
   },
   "file_extension": ".py",
   "mimetype": "text/x-python",
   "name": "python",
   "nbconvert_exporter": "python",
   "pygments_lexer": "ipython2",
   "version": "2.7.6"
  }
 },
 "nbformat": 4,
 "nbformat_minor": 5
}
