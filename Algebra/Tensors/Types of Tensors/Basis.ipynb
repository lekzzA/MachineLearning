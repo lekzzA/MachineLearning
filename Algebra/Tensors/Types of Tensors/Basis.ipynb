{
 "cells": [
  {
   "cell_type": "markdown",
   "source": [
    "Basis Vectors - Is a set of vectors such that, any vector in a Vector space can be represented as a linear combination of these vectors.\n",
    "Typically unit vectors along axes."
   ],
   "metadata": {
    "collapsed": false
   },
   "id": "1e021fbbac16a0cb"
  },
  {
   "cell_type": "markdown",
   "source": [
    "Orthogonal Vectors : Two orthogonal (at 90 degrees) vectors.\n",
    "x, y : x.yT = 0"
   ],
   "metadata": {
    "collapsed": false
   },
   "id": "26e4a81b8ba3876"
  },
  {
   "cell_type": "markdown",
   "source": [
    "Orthonormal Vectors: Orthogonal vectors with unit norm.\n",
    "ex. Basis Vectors"
   ],
   "metadata": {
    "collapsed": false
   },
   "id": "b58a28ad5715d296"
  },
  {
   "cell_type": "code",
   "outputs": [],
   "source": [],
   "metadata": {
    "collapsed": false
   },
   "id": "79534cc43c4102a6"
  }
 ],
 "metadata": {
  "kernelspec": {
   "display_name": "Python 3",
   "language": "python",
   "name": "python3"
  },
  "language_info": {
   "codemirror_mode": {
    "name": "ipython",
    "version": 2
   },
   "file_extension": ".py",
   "mimetype": "text/x-python",
   "name": "python",
   "nbconvert_exporter": "python",
   "pygments_lexer": "ipython2",
   "version": "2.7.6"
  }
 },
 "nbformat": 4,
 "nbformat_minor": 5
}
