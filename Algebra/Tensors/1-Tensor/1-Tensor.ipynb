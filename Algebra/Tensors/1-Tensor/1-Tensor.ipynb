{
 "cells": [
  {
   "cell_type": "markdown",
   "source": [
    "Vector of length 'n' represents a point in an n-dimensional tensor"
   ],
   "metadata": {
    "collapsed": false
   },
   "id": "209fe5dd72689304"
  },
  {
   "cell_type": "markdown",
   "source": [
    "Creating Vector"
   ],
   "metadata": {
    "collapsed": false
   },
   "id": "b1721ab79a3d9433"
  },
  {
   "cell_type": "code",
   "outputs": [
    {
     "name": "stdout",
     "output_type": "stream",
     "text": [
      "WARNING:tensorflow:From C:\\Users\\Tanuj.Bhatt\\Downloads\\LinAlgebra\\LinAlgebra\\venv\\Lib\\site-packages\\keras\\src\\losses.py:2976: The name tf.losses.sparse_softmax_cross_entropy is deprecated. Please use tf.compat.v1.losses.sparse_softmax_cross_entropy instead.\n"
     ]
    },
    {
     "data": {
      "text/plain": "array([25,  2,  6])"
     },
     "execution_count": 22,
     "metadata": {},
     "output_type": "execute_result"
    }
   ],
   "source": [
    "import numpy as np\n",
    "import torch\n",
    "import tensorflow as tf\n",
    "\n",
    "x = np.array([25, 2, 6])    # type argument is optional\n",
    "x\n",
    "# This array does not have 2 dimensions. It is just and array of size 3. We want to give dimensions to it, we create it in form of matrix. Then only transpose works."
   ],
   "metadata": {
    "collapsed": false,
    "ExecuteTime": {
     "end_time": "2024-02-19T07:18:20.428258200Z",
     "start_time": "2024-02-19T07:18:17.243591400Z"
    }
   },
   "id": "52d670e5d9d0b521",
   "execution_count": 22
  },
  {
   "cell_type": "code",
   "outputs": [
    {
     "data": {
      "text/plain": "3"
     },
     "execution_count": 2,
     "metadata": {},
     "output_type": "execute_result"
    }
   ],
   "source": [
    "len(x)"
   ],
   "metadata": {
    "collapsed": false,
    "ExecuteTime": {
     "end_time": "2024-02-19T07:10:45.833152900Z",
     "start_time": "2024-02-19T07:10:45.822160200Z"
    }
   },
   "id": "bfe1669fe048e19",
   "execution_count": 2
  },
  {
   "cell_type": "code",
   "outputs": [
    {
     "data": {
      "text/plain": "(3,)"
     },
     "execution_count": 3,
     "metadata": {},
     "output_type": "execute_result"
    }
   ],
   "source": [
    "x.shape\n",
    "# Shape is (3,) because there is no second dimension."
   ],
   "metadata": {
    "collapsed": false,
    "ExecuteTime": {
     "end_time": "2024-02-19T07:10:48.302647100Z",
     "start_time": "2024-02-19T07:10:48.290155700Z"
    }
   },
   "id": "e812aef1d9f40fae",
   "execution_count": 3
  },
  {
   "cell_type": "code",
   "outputs": [
    {
     "data": {
      "text/plain": "numpy.ndarray"
     },
     "execution_count": 4,
     "metadata": {},
     "output_type": "execute_result"
    }
   ],
   "source": [
    "type(x)"
   ],
   "metadata": {
    "collapsed": false,
    "ExecuteTime": {
     "end_time": "2024-02-19T07:10:56.819886800Z",
     "start_time": "2024-02-19T07:10:56.808166300Z"
    }
   },
   "id": "27144a564a006133",
   "execution_count": 4
  },
  {
   "cell_type": "markdown",
   "source": [
    "Transpose Vector"
   ],
   "metadata": {
    "collapsed": false
   },
   "id": "94b60c56871d5d3"
  },
  {
   "cell_type": "code",
   "outputs": [
    {
     "data": {
      "text/plain": "array([25,  2,  6])"
     },
     "execution_count": 5,
     "metadata": {},
     "output_type": "execute_result"
    }
   ],
   "source": [
    "x = x.T\n",
    "x\n",
    "# Doesn't do anything."
   ],
   "metadata": {
    "collapsed": false,
    "ExecuteTime": {
     "end_time": "2024-02-19T07:13:23.849691Z",
     "start_time": "2024-02-19T07:13:23.839747600Z"
    }
   },
   "id": "4b3133b0490b6bb1",
   "execution_count": 5
  },
  {
   "cell_type": "code",
   "outputs": [
    {
     "data": {
      "text/plain": "array([[25,  2,  6]])"
     },
     "execution_count": 14,
     "metadata": {},
     "output_type": "execute_result"
    }
   ],
   "source": [
    "y = np.array([[25, 2, 6]])\n",
    "y"
   ],
   "metadata": {
    "collapsed": false,
    "ExecuteTime": {
     "end_time": "2024-02-19T07:15:11.516302400Z",
     "start_time": "2024-02-19T07:15:11.507289Z"
    }
   },
   "id": "8d482fe263d5ae8b",
   "execution_count": 14
  },
  {
   "cell_type": "code",
   "outputs": [
    {
     "data": {
      "text/plain": "(1, 3)"
     },
     "execution_count": 15,
     "metadata": {},
     "output_type": "execute_result"
    }
   ],
   "source": [
    "y.shape\n",
    "# Now it's shape is (1,3) and hence we can do transpose operation also."
   ],
   "metadata": {
    "collapsed": false,
    "ExecuteTime": {
     "end_time": "2024-02-19T07:15:11.949372600Z",
     "start_time": "2024-02-19T07:15:11.942162700Z"
    }
   },
   "id": "73264652ca8d95a7",
   "execution_count": 15
  },
  {
   "cell_type": "code",
   "outputs": [
    {
     "data": {
      "text/plain": "array([[25],\n       [ 2],\n       [ 6]])"
     },
     "execution_count": 16,
     "metadata": {},
     "output_type": "execute_result"
    }
   ],
   "source": [
    "y = y.T\n",
    "y"
   ],
   "metadata": {
    "collapsed": false,
    "ExecuteTime": {
     "end_time": "2024-02-19T07:15:12.349816100Z",
     "start_time": "2024-02-19T07:15:12.341043500Z"
    }
   },
   "id": "e1e4da33b95f7462",
   "execution_count": 16
  },
  {
   "cell_type": "code",
   "outputs": [
    {
     "data": {
      "text/plain": "(3, 1)"
     },
     "execution_count": 17,
     "metadata": {},
     "output_type": "execute_result"
    }
   ],
   "source": [
    "y.shape"
   ],
   "metadata": {
    "collapsed": false,
    "ExecuteTime": {
     "end_time": "2024-02-19T07:15:12.936778Z",
     "start_time": "2024-02-19T07:15:12.925713600Z"
    }
   },
   "id": "a02693faef3ed2a9",
   "execution_count": 17
  },
  {
   "cell_type": "markdown",
   "source": [
    "Zero Vectors -\n",
    "Vectors consisting of only zeroes.\n",
    "Have no effect if added to another vector."
   ],
   "metadata": {
    "collapsed": false
   },
   "id": "3529f52e7b7d56a7"
  },
  {
   "cell_type": "code",
   "outputs": [
    {
     "data": {
      "text/plain": "array([0., 0., 0.])"
     },
     "execution_count": 18,
     "metadata": {},
     "output_type": "execute_result"
    }
   ],
   "source": [
    "z = np.zeros(3)\n",
    "z"
   ],
   "metadata": {
    "collapsed": false,
    "ExecuteTime": {
     "end_time": "2024-02-19T07:15:44.018903600Z",
     "start_time": "2024-02-19T07:15:44.007436400Z"
    }
   },
   "id": "86329dbf9098327b",
   "execution_count": 18
  },
  {
   "cell_type": "markdown",
   "source": [
    "Vectors in PyTorch and TensorFlow"
   ],
   "metadata": {
    "collapsed": false
   },
   "id": "9d33ac187fa0c777"
  },
  {
   "cell_type": "code",
   "outputs": [
    {
     "data": {
      "text/plain": "torch.Size([1, 3])"
     },
     "execution_count": 28,
     "metadata": {},
     "output_type": "execute_result"
    }
   ],
   "source": [
    "x_pytorch = torch.tensor([[25, 3, 45]])\n",
    "x_pytorch.shape\n",
    "# Similar as stated earlier, when defined in matrix style, a vector will have 2-dimensions otherwise not."
   ],
   "metadata": {
    "collapsed": false,
    "ExecuteTime": {
     "end_time": "2024-02-19T07:19:33.261888300Z",
     "start_time": "2024-02-19T07:19:33.255569400Z"
    }
   },
   "id": "f2e8f135d29474b1",
   "execution_count": 28
  },
  {
   "cell_type": "code",
   "outputs": [
    {
     "data": {
      "text/plain": "<tf.Variable 'Variable:0' shape=(3,) dtype=int32, numpy=array([23, 45, 46])>"
     },
     "execution_count": 23,
     "metadata": {},
     "output_type": "execute_result"
    }
   ],
   "source": [
    "x_tensor = tf.Variable([23, 45, 46])\n",
    "x_tensor"
   ],
   "metadata": {
    "collapsed": false,
    "ExecuteTime": {
     "end_time": "2024-02-19T07:18:30.220481700Z",
     "start_time": "2024-02-19T07:18:30.188066200Z"
    }
   },
   "id": "e090d4cea471fe3a",
   "execution_count": 23
  },
  {
   "cell_type": "code",
   "outputs": [
    {
     "data": {
      "text/plain": "tensor([[25],\n        [ 3],\n        [45]])"
     },
     "execution_count": 29,
     "metadata": {},
     "output_type": "execute_result"
    }
   ],
   "source": [
    "x_pytorch = x_pytorch.T\n",
    "x_pytorch"
   ],
   "metadata": {
    "collapsed": false,
    "ExecuteTime": {
     "end_time": "2024-02-19T07:19:37.416305700Z",
     "start_time": "2024-02-19T07:19:37.410117Z"
    }
   },
   "id": "a2c6d897809c10f9",
   "execution_count": 29
  },
  {
   "cell_type": "code",
   "outputs": [
    {
     "data": {
      "text/plain": "torch.Size([3, 1])"
     },
     "execution_count": 30,
     "metadata": {},
     "output_type": "execute_result"
    }
   ],
   "source": [
    "x_pytorch.shape"
   ],
   "metadata": {
    "collapsed": false,
    "ExecuteTime": {
     "end_time": "2024-02-19T07:19:37.974479600Z",
     "start_time": "2024-02-19T07:19:37.966478500Z"
    }
   },
   "id": "8dd190b208b408b4",
   "execution_count": 30
  }
 ],
 "metadata": {
  "kernelspec": {
   "display_name": "Python 3",
   "language": "python",
   "name": "python3"
  },
  "language_info": {
   "codemirror_mode": {
    "name": "ipython",
    "version": 2
   },
   "file_extension": ".py",
   "mimetype": "text/x-python",
   "name": "python",
   "nbconvert_exporter": "python",
   "pygments_lexer": "ipython2",
   "version": "2.7.6"
  }
 },
 "nbformat": 4,
 "nbformat_minor": 5
}
