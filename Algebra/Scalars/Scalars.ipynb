{
 "cells": [
  {
   "cell_type": "code",
   "execution_count": 1,
   "id": "initial_id",
   "metadata": {
    "collapsed": true,
    "ExecuteTime": {
     "end_time": "2024-02-18T17:59:55.999147500Z",
     "start_time": "2024-02-18T17:59:55.976569900Z"
    }
   },
   "outputs": [
    {
     "data": {
      "text/plain": "25"
     },
     "execution_count": 1,
     "metadata": {},
     "output_type": "execute_result"
    }
   ],
   "source": [
    "x = 25\n",
    "x"
   ]
  },
  {
   "cell_type": "code",
   "outputs": [
    {
     "data": {
      "text/plain": "int"
     },
     "execution_count": 2,
     "metadata": {},
     "output_type": "execute_result"
    }
   ],
   "source": [
    "type(x)"
   ],
   "metadata": {
    "collapsed": false,
    "ExecuteTime": {
     "end_time": "2024-02-18T18:00:06.569184600Z",
     "start_time": "2024-02-18T18:00:06.546230900Z"
    }
   },
   "id": "6a7ebbf5a8f79b0f",
   "execution_count": 2
  },
  {
   "cell_type": "code",
   "outputs": [
    {
     "data": {
      "text/plain": "int"
     },
     "execution_count": 5,
     "metadata": {},
     "output_type": "execute_result"
    }
   ],
   "source": [
    "y = 5\n",
    "## Adding 2 scalar variables.\n",
    "sum_var = x + y\n",
    "type(sum_var)"
   ],
   "metadata": {
    "collapsed": false,
    "ExecuteTime": {
     "end_time": "2024-02-18T18:00:54.307407600Z",
     "start_time": "2024-02-18T18:00:54.292508400Z"
    }
   },
   "id": "1e0d861175ec80e6",
   "execution_count": 5
  },
  {
   "cell_type": "markdown",
   "source": [
    "Creating a 0-Tensor with PyTorch"
   ],
   "metadata": {
    "collapsed": false
   },
   "id": "bfe21ce51c3d1422"
  },
  {
   "cell_type": "code",
   "outputs": [
    {
     "data": {
      "text/plain": "torch.Tensor"
     },
     "execution_count": 2,
     "metadata": {},
     "output_type": "execute_result"
    }
   ],
   "source": [
    "import torch\n",
    "x = torch.tensor(25)\n",
    "type(x)"
   ],
   "metadata": {
    "collapsed": false,
    "ExecuteTime": {
     "end_time": "2024-02-19T05:18:11.459954Z",
     "start_time": "2024-02-19T05:18:10.324804600Z"
    }
   },
   "id": "9812ce20c5f0b545",
   "execution_count": 2
  },
  {
   "cell_type": "code",
   "outputs": [
    {
     "data": {
      "text/plain": "torch.Size([])"
     },
     "execution_count": 10,
     "metadata": {},
     "output_type": "execute_result"
    }
   ],
   "source": [
    "x.shape"
   ],
   "metadata": {
    "collapsed": false,
    "ExecuteTime": {
     "end_time": "2024-02-18T18:06:12.327434200Z",
     "start_time": "2024-02-18T18:06:12.314798700Z"
    }
   },
   "id": "73db520fb5642072",
   "execution_count": 10
  },
  {
   "cell_type": "markdown",
   "source": [
    "Creating tensor using TensorFlow"
   ],
   "metadata": {
    "collapsed": false
   },
   "id": "1bc47e62f2baa91a"
  },
  {
   "cell_type": "code",
   "outputs": [
    {
     "data": {
      "text/plain": "<tf.Variable 'Variable:0' shape=() dtype=int8, numpy=25>"
     },
     "execution_count": 7,
     "metadata": {},
     "output_type": "execute_result"
    }
   ],
   "source": [
    "import tensorflow as tf\n",
    "x_tf = tf.Variable(25, dtype=tf.int8)\n",
    "x_tf"
   ],
   "metadata": {
    "collapsed": false,
    "ExecuteTime": {
     "end_time": "2024-02-19T07:02:02.222911700Z",
     "start_time": "2024-02-19T07:02:02.209561800Z"
    }
   },
   "id": "cdc2b46e74f2a980",
   "execution_count": 7
  },
  {
   "cell_type": "code",
   "outputs": [
    {
     "data": {
      "text/plain": "tensorflow.python.ops.resource_variable_ops.ResourceVariable"
     },
     "execution_count": 8,
     "metadata": {},
     "output_type": "execute_result"
    }
   ],
   "source": [
    "type(x_tf)"
   ],
   "metadata": {
    "collapsed": false,
    "ExecuteTime": {
     "end_time": "2024-02-19T07:02:03.706612900Z",
     "start_time": "2024-02-19T07:02:03.697551300Z"
    }
   },
   "id": "e8237ffc61cb47d9",
   "execution_count": 8
  },
  {
   "cell_type": "code",
   "outputs": [
    {
     "data": {
      "text/plain": "TensorShape([])"
     },
     "execution_count": 9,
     "metadata": {},
     "output_type": "execute_result"
    }
   ],
   "source": [
    "x_tf.shape"
   ],
   "metadata": {
    "collapsed": false,
    "ExecuteTime": {
     "end_time": "2024-02-19T07:02:04.130343300Z",
     "start_time": "2024-02-19T07:02:04.126694200Z"
    }
   },
   "id": "f356a683524af47f",
   "execution_count": 9
  },
  {
   "cell_type": "code",
   "outputs": [
    {
     "data": {
      "text/plain": "<tf.Variable 'Variable:0' shape=() dtype=int8, numpy=35>"
     },
     "execution_count": 12,
     "metadata": {},
     "output_type": "execute_result"
    }
   ],
   "source": [
    "y_tf = tf.Variable(35, dtype=tf.int8)\n",
    "y_tf"
   ],
   "metadata": {
    "collapsed": false,
    "ExecuteTime": {
     "end_time": "2024-02-19T07:03:17.763022900Z",
     "start_time": "2024-02-19T07:03:17.733704400Z"
    }
   },
   "id": "c76a37097e5ba7b7",
   "execution_count": 12
  },
  {
   "cell_type": "code",
   "outputs": [
    {
     "data": {
      "text/plain": "60"
     },
     "execution_count": 15,
     "metadata": {},
     "output_type": "execute_result"
    }
   ],
   "source": [
    "tf_sum = tf.add(x_tf, y_tf)\n",
    "tf_sum.numpy()"
   ],
   "metadata": {
    "collapsed": false,
    "ExecuteTime": {
     "end_time": "2024-02-19T07:03:32.383369900Z",
     "start_time": "2024-02-19T07:03:32.377151Z"
    }
   },
   "id": "ec4ceb2648fa171f",
   "execution_count": 15
  },
  {
   "cell_type": "code",
   "outputs": [
    {
     "data": {
      "text/plain": "numpy.int8"
     },
     "execution_count": 17,
     "metadata": {},
     "output_type": "execute_result"
    }
   ],
   "source": [
    "type(tf_sum.numpy())"
   ],
   "metadata": {
    "collapsed": false,
    "ExecuteTime": {
     "end_time": "2024-02-19T07:03:55.776843800Z",
     "start_time": "2024-02-19T07:03:55.770624600Z"
    }
   },
   "id": "41e818f6bf74c9c4",
   "execution_count": 17
  }
 ],
 "metadata": {
  "kernelspec": {
   "display_name": "Python 3",
   "language": "python",
   "name": "python3"
  },
  "language_info": {
   "codemirror_mode": {
    "name": "ipython",
    "version": 2
   },
   "file_extension": ".py",
   "mimetype": "text/x-python",
   "name": "python",
   "nbconvert_exporter": "python",
   "pygments_lexer": "ipython2",
   "version": "2.7.6"
  }
 },
 "nbformat": 4,
 "nbformat_minor": 5
}
